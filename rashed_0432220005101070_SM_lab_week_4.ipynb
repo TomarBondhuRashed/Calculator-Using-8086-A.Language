{
  "nbformat": 4,
  "nbformat_minor": 0,
  "metadata": {
    "colab": {
      "provenance": [],
      "authorship_tag": "ABX9TyMGtCQypaPVlJd8NlJ0lo3m",
      "include_colab_link": true
    },
    "kernelspec": {
      "name": "python3",
      "display_name": "Python 3"
    },
    "language_info": {
      "name": "python"
    }
  },
  "cells": [
    {
      "cell_type": "markdown",
      "metadata": {
        "id": "view-in-github",
        "colab_type": "text"
      },
      "source": [
        "<a href=\"https://colab.research.google.com/github/TomarBondhuRashed/Calculator-Using-8086-A.Language/blob/main/rashed_0432220005101070_SM_lab_week_4.ipynb\" target=\"_parent\"><img src=\"https://colab.research.google.com/assets/colab-badge.svg\" alt=\"Open In Colab\"/></a>"
      ]
    },
    {
      "cell_type": "code",
      "execution_count": 9,
      "metadata": {
        "colab": {
          "base_uri": "https://localhost:8080/"
        },
        "id": "Bw-9jI0xqyBe",
        "outputId": "382343e3-d7ce-4cf9-a544-8dfaafbd9e69"
      },
      "outputs": [
        {
          "output_type": "stream",
          "name": "stdout",
          "text": [
            "Range Used   Total Points   Points Inside   Estimated π     Error          \n",
            "7.00         4000           3166            3.166000        0.024407       \n",
            "7.00         8000           6258            3.129000        0.012593       \n",
            "7.00         12000          9387            3.129000        0.012593       \n",
            "7.00         16000          12559           3.139750        0.001843       \n",
            "7.00         20000          15758           3.151600        0.010007       \n"
          ]
        }
      ],
      "source": [
        "import random\n",
        "import numpy as np\n",
        "import math\n",
        "\n",
        "student_id = \"70\"\n",
        "R = int(student_id[-2:])\n",
        "range_max = R / 10\n",
        "radius = R / 10\n",
        "\n",
        "full_name = \"Rashedul Islam Jubayer\"\n",
        "letters_count = len(full_name.replace(\" \", \"\"))\n",
        "base_points = 200 * letters_count\n",
        "\n",
        "def is_inside_circle(x, y, radius):\n",
        "    return x**2 + y**2 <= radius**2\n",
        "\n",
        "def estimate_pi(num_points):\n",
        "    inside = 0\n",
        "    outside = 0\n",
        "\n",
        "    for _ in range(num_points // 2):\n",
        "        x = random.uniform(0, range_max)\n",
        "        y = random.uniform(0, range_max)\n",
        "        if is_inside_circle(x, y, radius):\n",
        "            inside += 1\n",
        "        else:\n",
        "            outside += 1\n",
        "\n",
        "    xs = np.random.rand(num_points // 2) * range_max\n",
        "    ys = np.random.rand(num_points // 2) * range_max\n",
        "    for x, y in zip(xs, ys):\n",
        "        if is_inside_circle(x, y, radius):\n",
        "            inside += 1\n",
        "        else:\n",
        "            outside += 1\n",
        "\n",
        "    estimated_pi = (inside / num_points) * ((range_max ** 2) / (radius ** 2)) * 4\n",
        "    error = abs(math.pi - estimated_pi)\n",
        "\n",
        "    return inside, outside, estimated_pi, error\n",
        "\n",
        "print(f\"{'Range Used':<12} {'Total Points':<14} {'Points Inside':<15} {'Estimated π':<15} {'Error':<15}\")\n",
        "\n",
        "for i in range(1, 6):\n",
        "    total_points = base_points * i\n",
        "    inside, outside, est_pi, err = estimate_pi(total_points)\n",
        "    print(f\"{range_max:<12.2f} {total_points:<14} {inside:<15} {est_pi:<15.6f} {err:<15.6f}\")\n"
      ]
    },
    {
      "cell_type": "code",
      "source": [
        "print (\"Rad: \", radius)"
      ],
      "metadata": {
        "colab": {
          "base_uri": "https://localhost:8080/"
        },
        "id": "SmsrXFzHxNAJ",
        "outputId": "469988a5-0860-49cd-c509-170168ed7502"
      },
      "execution_count": 8,
      "outputs": [
        {
          "output_type": "stream",
          "name": "stdout",
          "text": [
            "Rad:  7.0\n"
          ]
        }
      ]
    }
  ]
}